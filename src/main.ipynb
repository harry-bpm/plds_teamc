{
 "cells": [
  {
   "cell_type": "code",
   "execution_count": 1,
   "metadata": {},
   "outputs": [],
   "source": [
    "import re\n",
    "import numpy as np\n",
    "import pandas as pd\n",
    "import matplotlib.pyplot as plt\n",
    "import seaborn as sns\n",
    "from tqdm import tqdm\n",
    "import sklearn\n",
    "import joblib\n",
    "import time\n",
    "from string import punctuation\n",
    "\n",
    "from sklearn.model_selection import train_test_split, RandomizedSearchCV\n",
    "from sklearn.feature_extraction.text import TfidfVectorizer\n",
    "from sklearn.linear_model import LogisticRegression\n",
    "from sklearn.ensemble import RandomForestClassifier\n",
    "from sklearn.metrics import classification_report, roc_auc_score, f1_score, plot_roc_curve, make_scorer\n",
    "from sklearn.calibration import CalibratedClassifierCV\n",
    "from sklearn.utils.class_weight import compute_class_weight\n",
    "import lightgbm as lgb\n",
    "import nltk\n",
    "from nltk.corpus import stopwords\n",
    "from tensorflow import keras\n",
    "tqdm.pandas()"
   ]
  },
  {
   "cell_type": "code",
   "execution_count": 2,
   "metadata": {},
   "outputs": [],
   "source": [
    "def main_predict(txtfile, model, threshold):\n",
    "    txtfile = txtfile[[txtfile.columns[1]]]\n",
    "    txtfile = np.asarray(txtfile).astype(np.float32).T\n",
    "    txtfile = txtfile.reshape(-1, 30)\n",
    "    code2rel = {0: 'Tidak berhasil', 1: 'Berhasil'}\n",
    "    \n",
    "    proba = model.predict(txtfile)\n",
    "    predict = 1 if proba > threshold else 0\n",
    "    print(f\"{code2rel[predict]}, dengan akurasi {str(proba)[2:-2]}\")\n",
    "\n",
    "    return code2rel[predict], proba\n",
    "\n",
    "\n",
    "    "
   ]
  },
  {
   "cell_type": "code",
   "execution_count": 3,
   "metadata": {},
   "outputs": [],
   "source": [
    "#txtfile adalah input yang dapat diganti value-nya\n",
    "\n",
    "model = keras.models.load_model('E:\\\\projects\\\\plds_teamc\\\\model\\\\')\n",
    "threshold = joblib.load('E:\\\\projects\\\\plds_teamc\\\\model\\\\acc_threshold.pkl')\n",
    "txtfile = pd.read_csv(\"E:\\\\projects\\\\plds_teamc\\\\data\\\\sample.txt\") "
   ]
  },
  {
   "cell_type": "code",
   "execution_count": 4,
   "metadata": {},
   "outputs": [
    {
     "name": "stdout",
     "output_type": "stream",
     "text": [
      "Tidak berhasil, dengan akurasi 0.24795133\n"
     ]
    }
   ],
   "source": [
    "proba = main_predict(txtfile, model, threshold)"
   ]
  }
 ],
 "metadata": {
  "kernelspec": {
   "display_name": "Python 3.8.8 ('base')",
   "language": "python",
   "name": "python3"
  },
  "language_info": {
   "codemirror_mode": {
    "name": "ipython",
    "version": 3
   },
   "file_extension": ".py",
   "mimetype": "text/x-python",
   "name": "python",
   "nbconvert_exporter": "python",
   "pygments_lexer": "ipython3",
   "version": "3.8.8"
  },
  "orig_nbformat": 4,
  "vscode": {
   "interpreter": {
    "hash": "6f9ce6eba129c4e9adeb7a9652474f34792e333d7d887e515c6f6483448857cc"
   }
  }
 },
 "nbformat": 4,
 "nbformat_minor": 2
}
