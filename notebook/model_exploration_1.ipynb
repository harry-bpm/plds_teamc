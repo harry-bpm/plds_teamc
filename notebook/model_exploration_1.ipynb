{
 "cells": [
  {
   "cell_type": "code",
   "execution_count": null,
   "metadata": {},
   "outputs": [],
   "source": [
    "import re\n",
    "import numpy as np\n",
    "import pandas as pd\n",
    "import matplotlib.pyplot as plt\n",
    "import seaborn as sns\n",
    "from tqdm import tqdm\n",
    "import sklearn\n",
    "import joblib\n",
    "import time\n",
    "from string import punctuation\n",
    "\n",
    "from sklearn.model_selection import train_test_split, RandomizedSearchCV\n",
    "from sklearn.feature_extraction.text import TfidfVectorizer\n",
    "from sklearn.linear_model import LogisticRegression\n",
    "from sklearn.ensemble import RandomForestClassifier\n",
    "from sklearn.metrics import classification_report, roc_auc_score, f1_score, plot_roc_curve, make_scorer\n",
    "from sklearn.calibration import CalibratedClassifierCV\n",
    "from sklearn.utils.class_weight import compute_class_weight\n",
    "import lightgbm as lgb\n",
    "import nltk\n",
    "from nltk.corpus import stopwords\n",
    "\n",
    "tqdm.pandas()"
   ]
  },
  {
   "cell_type": "code",
   "execution_count": null,
   "metadata": {},
   "outputs": [],
   "source": [
    "selected_features_1 =[\"Live Birth Occurrence\",\"Patient Age at Treatment\",\"Total Number of Previous cycles, Both IVF and DI\", \"Total number of IVF pregnancies\",\"Total number of live births - conceived through IVF\",\"Type of Infertility - Female Primary\",\n",
    "\"Type of Infertility - Female Secondary\", \"Type of Infertility - Male Primary\",\"Type of Infertility - Male Secondary\",\"Type of Infertility -Couple Primary\",\"Type of Infertility -Couple Secondary\",\n",
    "\"Cause  of Infertility - Tubal disease\", \"Cause of Infertility - Ovulatory Disorder\",\"Cause of Infertility - Male Factor\",\"Cause of Infertility - Patient Unexplained\",\"Cause of Infertility - Endometriosis\",\n",
    "\"Cause of Infertility - Cervical factors\",\"Cause of Infertility - Female Factors\",\"Cause of Infertility - Partner Sperm Concentration\",\"Cause of Infertility -  Partner Sperm Morphology\",\"Causes of Infertility - Partner Sperm Motility\",\"Cause of Infertility -  Partner Sperm Immunological factors\",\n",
    "\"Stimulation used\",\"Egg Source\",\"Sperm From\",\"Fresh Cycle\",\"Frozen Cycle\",\"Eggs Mixed With Partner Sperm\",\"Eggs Thawed\",\"Embryos Transfered\",\"Fresh Eggs Collected\"]\n",
    "\n",
    "selected_features_2 =[\"Live Birth Occurrence\",\"Patient Age at Treatment\", \"Total Number of Previous treatments, Both IVF and DI at clinic\", \"Total Number of Previous IVF cycles\",\"Total number of IVF pregnancies\",\"Type of Infertility - Female Primary\",\n",
    "\"Type of Infertility - Female Secondary\", \"Type of Infertility - Male Primary\",\"Type of Infertility - Male Secondary\",\"Type of Infertility -Couple Primary\",\"Type of Infertility -Couple Secondary\",\n",
    "\"Cause  of Infertility - Tubal disease\", \"Cause of Infertility - Ovulatory Disorder\",\"Cause of Infertility - Male Factor\",\"Cause of Infertility - Patient Unexplained\",\"Cause of Infertility - Endometriosis\",\n",
    "\"Cause of Infertility - Cervical factors\",\"Cause of Infertility - Female Factors\",\"Cause of Infertility - Partner Sperm Concentration\",\"Cause of Infertility -  Partner Sperm Morphology\",\"Causes of Infertility - Partner Sperm Motility\",\"Cause of Infertility -  Partner Sperm Immunological factors\",\n",
    "\"Stimulation used\",\"Embryos Transfered\",\"Type of treatment - IVF or DI\",\"Specific treatment type\",\"Total Embryos Created\" ]\n",
    "\n",
    "joblib.dump(selected_features_1, \"E:\\\\projects\\\\plds_teamc\\\\data\\\\selected_features_1.pkl\")\n",
    "joblib.dump(selected_features_2, \"E:\\\\projects\\\\plds_teamc\\\\data\\\\selected_features_2.pkl\")"
   ]
  },
  {
   "cell_type": "code",
   "execution_count": null,
   "metadata": {},
   "outputs": [],
   "source": [
    "\n",
    "\n",
    "\n",
    "\n",
    "\n",
    "dataset_1 = dataset_1.dropna(subset = [\"Egg Source\",\"Sperm From\"])\n",
    "dataset_1[\"Live Birth Occurrence\"]=dataset_1[\"Live Birth Occurrence\"].fillna(0)\n",
    "dataset_1 = dataset_1[dataset_1['Stimulation used'] != 0]\n",
    "#Convert patient age to categorical data\n",
    "dataset_1 = dataset_1[dataset_1['Patient Age at Treatment'] != \"999\"]\n",
    "dataset_1[\"Patient Age at Treatment\"] = dataset_1[\"Patient Age at Treatment\"].str.replace(\" \",\"\")\n",
    "dataset_1[\"Patient Age at Treatment\"] = dataset_1.replace({\"Patient Age at Treatment\":{\"18-34\":\"0\", \"35-37\":\"1\" ,\"38-39\": \"2\",\"40-42\": \"3\", \"43-44\": \"4\",\"44-50\": \"5\"}})\n",
    "dataset_1 = dataset_1.replace(\"> 50\",\"50\")\n",
    "dataset_1 = dataset_1.replace(\">=5\",\"5\")\n",
    "\n",
    "\n",
    "dataset_1 = dataset_1.replace(\"Patient\",\"1\")\n",
    "dataset_1 = dataset_1.replace(\"Partner\",\"1\")\n",
    "dataset_1 = dataset_1.replace(\"Donor\",\"0\")\n",
    "dataset_1 = dataset_1.replace(\"Partner & Donor\",\"0\")\n",
    "dataset_1 = dataset_1[dataset_1[\"Sperm From\"].str.contains(\"not assigned\")==False]\n",
    "\n",
    "dataset_1_X = dataset_1.loc[:, dataset_1.columns != \"Live Birth Occurrence\"]\n",
    "dataset_1_Y = dataset_1[\"Live Birth Occurrence\"]\n",
    "\n",
    "X_train_1, X_test_1, Y_train_1, Y_test_1 = train_test_split(dataset_1_X, dataset_1_Y, test_size=0.3, random_state=42)"
   ]
  },
  {
   "cell_type": "code",
   "execution_count": null,
   "metadata": {},
   "outputs": [],
   "source": [
    "def main_load(file_loc1, file_loc2, feature_loc):\n",
    "    df1 = pd.read_excel(file_loc1,engine='pyxlsb')\n",
    "    df2 = pd.read_excel(file_loc2,engine='pyxlsb')\n",
    "    features = joblib.load(feature_loc)\n",
    "    \n",
    "    df_combined = pd.concat([df1, df2])\n",
    "    dataset = df_combined[features]\n",
    "\n",
    "\n",
    "\n",
    "\n",
    "\n",
    "    x_all, y_all = split_xy(df, ['comment_text'], ['toxic'])\n",
    "    x_train, y_train,x_valid, y_valid,x_test, y_test = run_split_data(x_all, y_all, 'toxic', 0.2)\n",
    "    joblib.dump(x_train, \"E:\\\\projects\\\\plds_latihan\\\\pipeline\\\\x_train.pkl\")\n",
    "    joblib.dump(y_train, \"E:\\\\projects\\\\plds_latihan\\\\pipeline\\\\y_train.pkl\")\n",
    "    joblib.dump(x_valid, \"E:\\\\projects\\\\plds_latihan\\\\pipeline\\\\x_valid.pkl\")\n",
    "    joblib.dump(y_valid, \"E:\\\\projects\\\\plds_latihan\\\\pipeline\\\\y_valid.pkl\")\n",
    "    joblib.dump(x_test, \"E:\\\\projects\\\\plds_latihan\\\\pipeline\\\\x_test.pkl\")\n",
    "    joblib.dump(y_test, \"E:\\\\projects\\\\plds_latihan\\\\pipeline\\\\y_test.pkl\")\n",
    "\n",
    "    return x_train, y_train, x_valid, y_valid, x_test, y_test"
   ]
  },
  {
   "cell_type": "code",
   "execution_count": null,
   "metadata": {},
   "outputs": [],
   "source": [
    "file_loc1 = 'E:/projects/plds_teamc/data/ar-2010-2014-xlsb.xlsb'\n",
    "file_loc2 = 'E:/projects/plds_teamc/data/ar-2015-2016-xlsb.xlsb'\n",
    "feature_loc = 'E:\\\\projects\\\\plds_teamc\\\\data\\\\selected_features_1.pkl'\n",
    "\n",
    "\n",
    "x_train, y_train, x_valid, y_valid, x_test, y_test = main_load(file_loc1,file_loc2, feature)\n"
   ]
  }
 ],
 "metadata": {
  "language_info": {
   "name": "python"
  },
  "orig_nbformat": 4
 },
 "nbformat": 4,
 "nbformat_minor": 2
}
